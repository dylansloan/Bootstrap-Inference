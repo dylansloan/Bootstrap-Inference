{
 "cells": [
  {
   "cell_type": "markdown",
   "metadata": {},
   "source": [
    "# Inferential statistics II - Bootstrapping"
   ]
  },
  {
   "cell_type": "markdown",
   "metadata": {},
   "source": [
    "## Introduction"
   ]
  },
  {
   "cell_type": "markdown",
   "metadata": {},
   "source": [
    "In the previous exercises you performed frequentist calculations to perform inference from a sample of data. Such inference relies on theory largely developed from the 19th Century onwards that is subject to certain assumptions or theoretical limits. These are fine if those assumptions hold in your case, and what you want to do has a known theoretical distribution, for example the mean of a sampling distribution that we looked at."
   ]
  },
  {
   "cell_type": "markdown",
   "metadata": {},
   "source": [
    "In these exercises we are once again going to load in the medical charge data but this time we are going to make inferences about the population using bootstrapping, that is simulating repeated re-runs of an experiment. If frequentism is about using assumptions and theoretical results to calculate what we expect to happen were an experiment to be run again and again and again, then bootstrapping is about using computing power to essentially re-run the sample draw again and again and again to see what actually happens."
   ]
  },
  {
   "cell_type": "markdown",
   "metadata": {},
   "source": [
    "## Prerequisites"
   ]
  },
  {
   "cell_type": "markdown",
   "metadata": {},
   "source": [
    "Whilst these exercises do not strictly depend on these concepts, before working through them, you should have completed the preceding assignment and have a good understanding of such frequentist concepts as\n",
    "* the _z_-statistic\n",
    "* the _t_-statistic\n",
    "* the difference and relationship between the two\n",
    "* the Central Limit Theorem, its assumptions and consequences\n",
    "* how to estimate the population mean and standard deviation from a sample\n",
    "* the concept of a sampling distribution of a test statistic, particularly for the mean\n",
    "* how to combine these concepts to calculate confidence intervals and p-values\n",
    "* how those confidence intervals and p-values allow you to perform hypothesis (or A/B) tests"
   ]
  },
  {
   "cell_type": "markdown",
   "metadata": {},
   "source": [
    "To complete these exercises, you should have covered the material on how to calculate bootstrap replicates of summary statistics. Having an appreciation of what confidence intervals and p-values are will be helpful."
   ]
  },
  {
   "cell_type": "code",
   "execution_count": 1,
   "metadata": {},
   "outputs": [],
   "source": [
    "import pandas as pd\n",
    "import numpy as np\n",
    "from numpy.random import seed\n",
    "import matplotlib.pyplot as plt"
   ]
  },
  {
   "cell_type": "markdown",
   "metadata": {},
   "source": [
    "## Medical charge data set"
   ]
  },
  {
   "cell_type": "code",
   "execution_count": 2,
   "metadata": {},
   "outputs": [],
   "source": [
    "med_charges = pd.read_csv('data/insurance2.csv')"
   ]
  },
  {
   "cell_type": "code",
   "execution_count": 3,
   "metadata": {},
   "outputs": [
    {
     "data": {
      "text/html": [
       "<div>\n",
       "<style scoped>\n",
       "    .dataframe tbody tr th:only-of-type {\n",
       "        vertical-align: middle;\n",
       "    }\n",
       "\n",
       "    .dataframe tbody tr th {\n",
       "        vertical-align: top;\n",
       "    }\n",
       "\n",
       "    .dataframe thead th {\n",
       "        text-align: right;\n",
       "    }\n",
       "</style>\n",
       "<table border=\"1\" class=\"dataframe\">\n",
       "  <thead>\n",
       "    <tr style=\"text-align: right;\">\n",
       "      <th></th>\n",
       "      <th>age</th>\n",
       "      <th>sex</th>\n",
       "      <th>bmi</th>\n",
       "      <th>children</th>\n",
       "      <th>smoker</th>\n",
       "      <th>region</th>\n",
       "      <th>charges</th>\n",
       "      <th>insuranceclaim</th>\n",
       "    </tr>\n",
       "  </thead>\n",
       "  <tbody>\n",
       "    <tr>\n",
       "      <th>0</th>\n",
       "      <td>19</td>\n",
       "      <td>0</td>\n",
       "      <td>27.900</td>\n",
       "      <td>0</td>\n",
       "      <td>1</td>\n",
       "      <td>3</td>\n",
       "      <td>16884.92400</td>\n",
       "      <td>1</td>\n",
       "    </tr>\n",
       "    <tr>\n",
       "      <th>1</th>\n",
       "      <td>18</td>\n",
       "      <td>1</td>\n",
       "      <td>33.770</td>\n",
       "      <td>1</td>\n",
       "      <td>0</td>\n",
       "      <td>2</td>\n",
       "      <td>1725.55230</td>\n",
       "      <td>1</td>\n",
       "    </tr>\n",
       "    <tr>\n",
       "      <th>2</th>\n",
       "      <td>28</td>\n",
       "      <td>1</td>\n",
       "      <td>33.000</td>\n",
       "      <td>3</td>\n",
       "      <td>0</td>\n",
       "      <td>2</td>\n",
       "      <td>4449.46200</td>\n",
       "      <td>0</td>\n",
       "    </tr>\n",
       "    <tr>\n",
       "      <th>3</th>\n",
       "      <td>33</td>\n",
       "      <td>1</td>\n",
       "      <td>22.705</td>\n",
       "      <td>0</td>\n",
       "      <td>0</td>\n",
       "      <td>1</td>\n",
       "      <td>21984.47061</td>\n",
       "      <td>0</td>\n",
       "    </tr>\n",
       "    <tr>\n",
       "      <th>4</th>\n",
       "      <td>32</td>\n",
       "      <td>1</td>\n",
       "      <td>28.880</td>\n",
       "      <td>0</td>\n",
       "      <td>0</td>\n",
       "      <td>1</td>\n",
       "      <td>3866.85520</td>\n",
       "      <td>1</td>\n",
       "    </tr>\n",
       "  </tbody>\n",
       "</table>\n",
       "</div>"
      ],
      "text/plain": [
       "   age  sex     bmi  children  smoker  region      charges  insuranceclaim\n",
       "0   19    0  27.900         0       1       3  16884.92400               1\n",
       "1   18    1  33.770         1       0       2   1725.55230               1\n",
       "2   28    1  33.000         3       0       2   4449.46200               0\n",
       "3   33    1  22.705         0       0       1  21984.47061               0\n",
       "4   32    1  28.880         0       0       1   3866.85520               1"
      ]
     },
     "execution_count": 3,
     "metadata": {},
     "output_type": "execute_result"
    }
   ],
   "source": [
    "med_charges.head()"
   ]
  },
  {
   "cell_type": "markdown",
   "metadata": {},
   "source": [
    "In the previous assignment, you used the frequentist approach to estimate the lower limit for the 95% confidence interval on the mean hospital charge. This approach relies on statistical theory that has been developed over the years and is also limited to statistics for which theoretical results on the sampling distribution exist. These results are remarkably useful and applicable much of the time and under a surprisingly wide range of conditions."
   ]
  },
  {
   "cell_type": "markdown",
   "metadata": {},
   "source": [
    "Having calculated the 95% lower confidence interval using frequentist theory in the previous exercise, you would like to verify your calculations and check you get consistent results without making the assumptions required before. After all, the distribution of charges really was very non-normal."
   ]
  },
  {
   "cell_type": "markdown",
   "metadata": {},
   "source": [
    "__Q:__ Use bootstrap sampling to estimate the same 95% confidence interval lower limit as before."
   ]
  },
  {
   "cell_type": "markdown",
   "metadata": {},
   "source": [
    "__A:__\n",
    "\n",
    "[12624.86211913, 13918.00929997]"
   ]
  },
  {
   "cell_type": "code",
   "execution_count": 4,
   "metadata": {},
   "outputs": [
    {
     "name": "stdout",
     "output_type": "stream",
     "text": [
      "13386.798875335577\n"
     ]
    },
    {
     "data": {
      "text/plain": [
       "array([12624.86211913, 13918.00929997])"
      ]
     },
     "execution_count": 4,
     "metadata": {},
     "output_type": "execute_result"
    }
   ],
   "source": [
    "np.random.seed(47)\n",
    "N_rep = 10000\n",
    "\n",
    "def bootstrap_rep_1d(data, func):\n",
    "    bs_sample = np.random.choice(data, len(data))\n",
    "    return func(bs_sample)\n",
    "\n",
    "print(bootstrap_rep_1d(med_charges['charges'], np.mean))\n",
    "\n",
    "bs_replicates = np.empty(10000)\n",
    "for i in range(N_rep):\n",
    "    bs_replicates[i] = bootstrap_rep_1d(med_charges['charges'], np.mean)\n",
    "    \n",
    "conf_int = np.percentile(bs_replicates, [2.5, 97.5])\n",
    "conf_int"
   ]
  },
  {
   "cell_type": "markdown",
   "metadata": {},
   "source": [
    "If you performed 10000 replicates immediately after setting the random seed to 47, you should get the value 12724 here, which compares very well with the value 12725 obtained using the _t_-distribution confidence interval previously. It is a most pleasant result to see the predictions of classical frequentist theory match with results that are now possible through the number-crunching ability of computers."
   ]
  },
  {
   "cell_type": "markdown",
   "metadata": {},
   "source": [
    "Remember in the previous exercise set, we saw there are two ways of performing a _t_-test from a sample, depending on whether we can assume the groups have equal variance or not. We can actually easily test this using the bootstrap!"
   ]
  },
  {
   "cell_type": "markdown",
   "metadata": {},
   "source": [
    "__Q:__ Calculate the 95% confidence interval for the difference between the standard deviations of insurance and non-insurance claim charges (insured - non-insured). Calculate the differences over 10000 replicates. Plot the histogram of values and mark the locations of the percentiles. State the null and alternative hypothesis and comment on whether you would retain or reject the null hypothesis in this case and why."
   ]
  },
  {
   "cell_type": "markdown",
   "metadata": {},
   "source": [
    "__A:__\n",
    "\n",
    "H0: Insured and Non-Insured have the same variance\n",
    "HA: Insured and Non-Insured do not have the same variance\n",
    "Based on the results showing there is a mean difference of standard deviations between insured and non-insured of 7599, \n",
    "we would reject the null hypothesis\n",
    "\n",
    "Insured Standard Deviation:  13913.95815062859\n",
    "Non-Insured Standard Deviation:  6839.354040004434\n",
    "Confidence Interval:  [6696.31268741 8504.62849565]\n",
    "Mean of Difference of Standard Deviation:  7599.371324306597"
   ]
  },
  {
   "cell_type": "code",
   "execution_count": 7,
   "metadata": {},
   "outputs": [
    {
     "name": "stdout",
     "output_type": "stream",
     "text": [
      "Insured Standard Deviation:  14308.462020321436\n",
      "Insured Confidence Interval:  [13323.62673794 14710.21926089]\n"
     ]
    },
    {
     "data": {
      "image/png": "[encoded data removed]",
      "text/plain": [
       "<Figure size 432x288 with 1 Axes>"
      ]
     },
     "metadata": {},
     "output_type": "display_data"
    },
    {
     "data": {
      "text/plain": [
       "array([14016.84619269, 14533.85294698, 14044.14852267, 14025.67612243,\n",
       "       13655.35892047])"
      ]
     },
     "execution_count": 7,
     "metadata": {},
     "output_type": "execute_result"
    }
   ],
   "source": [
    "insured = med_charges[med_charges['insuranceclaim']==1]\n",
    "np.random.seed(47)\n",
    "\n",
    "insured_std = bootstrap_rep_1d(insured['charges'], np.std)\n",
    "print('Insured Standard Deviation: ', insured_std)\n",
    "bs_replicates = np.empty(10000)\n",
    "for i in range(10000):\n",
    "    bs_replicates[i] = bootstrap_rep_1d(insured['charges'], np.std)\n",
    "\n",
    "n_data = len(bs_replicates)\n",
    "n_bins = np.sqrt(n_data)\n",
    "n_bins = int(n_bins)\n",
    "\n",
    "insured_conf_int = np.percentile(bs_replicates, [2.5, 97.5])\n",
    "print('Insured Confidence Interval: ', insured_conf_int)\n",
    "_ = plt.hist(bs_replicates, bins=n_bins, density=True)\n",
    "_ = plt.xlabel('Standard Deviation of Charges')\n",
    "_ = plt.ylabel('PDF')\n",
    "_ = plt.axvline(insured_std, color='r', linestyle='--')\n",
    "_ = plt.axvline(insured_conf_int[0], color='r', linestyle='-.')\n",
    "_ = plt.axvline(insured_conf_int[1], color='r', linestyle='-.')\n",
    "plt.show()\n",
    "\n",
    "bs_replicates[:5]"
   ]
  },
  {
   "cell_type": "code",
   "execution_count": 8,
   "metadata": {},
   "outputs": [
    {
     "name": "stdout",
     "output_type": "stream",
     "text": [
      "Non-Insured Standard Deviation:  6159.054111949951\n",
      "Non-Insured Confidence Interval:  [13323.62673794 14710.21926089]\n"
     ]
    },
    {
     "data": {
      "image/png": "[encoded data removed]",
      "text/plain": [
       "<Figure size 432x288 with 1 Axes>"
      ]
     },
     "metadata": {},
     "output_type": "display_data"
    },
    {
     "data": {
      "text/plain": [
       "array([6115.51989319, 6642.76007193, 6216.96519946, 6521.54248501,\n",
       "       6671.90441662])"
      ]
     },
     "execution_count": 8,
     "metadata": {},
     "output_type": "execute_result"
    }
   ],
   "source": [
    "non_insured = med_charges[med_charges['insuranceclaim']==0]\n",
    "np.random.seed(47)\n",
    "\n",
    "\n",
    "non_insured_std = bootstrap_rep_1d(non_insured['charges'], np.std)\n",
    "print('Non-Insured Standard Deviation: ', non_insured_std)\n",
    "bs_replicates_ni = np.empty(10000)\n",
    "for i in range(10000):\n",
    "    bs_replicates_ni[i] = bootstrap_rep_1d(non_insured['charges'], np.std)\n",
    "\n",
    "n_data = len(bs_replicates_ni)\n",
    "n_bins = np.sqrt(n_data)\n",
    "n_bins = int(n_bins)\n",
    "\n",
    "non_insured_conf_int = np.percentile(bs_replicates_ni, [2.5, 97.5])\n",
    "print('Non-Insured Confidence Interval: ', insured_conf_int)\n",
    "_ = plt.hist(bs_replicates_ni, bins=n_bins, density=True)\n",
    "_ = plt.xlabel('Standard Deviation of Charges')\n",
    "_ = plt.ylabel('PDF')\n",
    "_ = plt.axvline(non_insured_std, color='r', linestyle='--')\n",
    "_ = plt.axvline(non_insured_conf_int[0], color='r', linestyle='-.')\n",
    "_ = plt.axvline(non_insured_conf_int[1], color='r', linestyle='-.')\n",
    "plt.show()\n",
    "\n",
    "bs_replicates_ni[:5]"
   ]
  },
  {
   "cell_type": "code",
   "execution_count": 9,
   "metadata": {},
   "outputs": [
    {
     "name": "stdout",
     "output_type": "stream",
     "text": [
      "Insured Standard Deviation:  14136.76823584289\n",
      "Non-Insured Standard Deviation:  6498.0149919980595\n",
      "Confidence Interval:  [6671.96005084 8479.4224625 ]\n",
      "Mean of Difference of Standard Deviation:  7599.2631888401675\n"
     ]
    },
    {
     "data": {
      "image/png": "[encoded data removed]",
      "text/plain": [
       "<Figure size 432x288 with 1 Axes>"
      ]
     },
     "metadata": {},
     "output_type": "display_data"
    }
   ],
   "source": [
    "insured_std = bootstrap_rep_1d(insured['charges'], np.std)\n",
    "print('Insured Standard Deviation: ', insured_std)\n",
    "\n",
    "non_insured_std = bootstrap_rep_1d(non_insured['charges'], np.std)\n",
    "print('Non-Insured Standard Deviation: ', non_insured_std)\n",
    "\n",
    "bs_replicates_diff = np.empty(10000)\n",
    "for i in range(10000):\n",
    "    bs_replicates_diff[i] = (bootstrap_rep_1d(insured['charges'], np.std) - bootstrap_rep_1d(non_insured['charges'], np.std))\n",
    "\n",
    "n_data = len(bs_replicates_diff)\n",
    "n_bins = np.sqrt(n_data)\n",
    "n_bins = int(n_bins)\n",
    "\n",
    "_conf_int = np.percentile(bs_replicates_diff, [2.5, 97.5])\n",
    "print('Confidence Interval: ', _conf_int)\n",
    "\n",
    "_bs_rep_diff_mean = bootstrap_rep_1d(bs_replicates_diff, np.mean)\n",
    "print('Mean of Difference of Standard Deviation: ', _bs_rep_diff_mean)\n",
    "\n",
    "_ = plt.hist(bs_replicates_diff, bins=n_bins, density=True)\n",
    "_ = plt.xlabel('Difference Between Standard Deviation of Charges')\n",
    "_ = plt.ylabel('PDF')\n",
    "_ = plt.axvline(_bs_rep_diff_mean, color='r', linestyle='--')\n",
    "_ = plt.axvline(_conf_int[0], color='r', linestyle='-.')\n",
    "_ = plt.axvline(_conf_int[1], color='r', linestyle='-.')\n",
    "plt.show()\n"
   ]
  },
  {
   "cell_type": "code",
   "execution_count": null,
   "metadata": {},
   "outputs": [],
   "source": []
  },
  {
   "cell_type": "code",
   "execution_count": null,
   "metadata": {},
   "outputs": [],
   "source": []
  },
  {
   "cell_type": "markdown",
   "metadata": {},
   "source": []
  },
  {
   "cell_type": "markdown",
   "metadata": {},
   "source": [
    "## Confidence interval and p-value"
   ]
  },
  {
   "cell_type": "markdown",
   "metadata": {},
   "source": [
    "The confidence interval above is often a useful quantity to estimate. If we wish to limit our expected probability of making a Type II error (where we wrongly reject the null hypothesis, and it is, instead, true) to $\\alpha$, the associated confidence interval is our estimate of the interval within which we expect the true population value to be found $100\\times(1 - \\alpha)$% of the time we do this test. In the above we performed bootstrap replicates to estimate the interval and reject the null hypothesis if this interval did not contain zero. You will sometimes see such an interval reported in the output of statistical functions.\n",
    "\n",
    "The partner of the confidence interval is the p-value. The p-value and the confidence interval are linked through our choice of $\\alpha$. The p-value tells us how likely it is, under the null hypothesis, to get an outcome at least as extreme as what was observed. If this fails to reach the level of our _pre-specified_ $\\alpha$, we decide the null hypothesis is sufficiently unlikely to be true and thus reject it. To calculate this p-value via the bootstrap, we have to put ourselves in a position where we are simulating the null hypothesis being true and then calculate the fraction of times we observe a result at least as extreme as that actually observed.\n",
    "\n",
    "Remember how, previously, you used the _t_-test to calculate the p-value for the observed difference between the means of insured and non-insured medical cases. We're now going to repeat this but using the bootstrap.\n",
    "\n",
    "__Q:__ Perform a bootstrapped hypothesis test at the 5% significance level ($\\alpha = 0.05$) to calculate the p-value of the observed difference between insurance and non-insurance charges, state your null and alternative hypotheses and whether you retain or reject the null hypothesis for the given significance level."
   ]
  },
  {
   "cell_type": "markdown",
   "metadata": {},
   "source": [
    "__A:__\n",
    "\n",
    "#H0: Observered difference between insurance and non-insurance charges are equal\n",
    "#HA: Observered difference between insurance and non-insurance charges are not equal\n",
    "\n",
    "Based on the p-value we reject the null hypothesis. The observered difference between insurance and non-insurance charges are not equal."
   ]
  },
  {
   "cell_type": "markdown",
   "metadata": {},
   "source": []
  },
  {
   "cell_type": "code",
   "execution_count": null,
   "metadata": {},
   "outputs": [],
   "source": [
    "#H0: Observered difference between insurance and non-insurance charges are equal\n",
    "#HA: Observered difference between insurance and non-insurance charges are not equal"
   ]
  },
  {
   "cell_type": "code",
   "execution_count": 10,
   "metadata": {},
   "outputs": [
    {
     "name": "stdout",
     "output_type": "stream",
     "text": [
      "empirical diff of means =  7036.48578223024\n",
      "mean charge =  13250.260406742018\n",
      "mean difference =  7036.48578223024\n",
      "bs diff reps\n",
      "[ 2020.30146389  -110.94533511   -41.47308655 ...   927.44441801\n",
      " -1057.44966788  -210.93054068]\n",
      "sum 500\n",
      "p value = 0.05\n",
      "95% confidence interval = [-1456.07213662  1428.08452881]\n"
     ]
    }
   ],
   "source": [
    "size=10000\n",
    "#Draw bootstrap replicates\n",
    "def draw_bs_reps(data, func, size=1):\n",
    "    bs_replicates = np.empty(size)\n",
    "    for i in range(size):\n",
    "        bs_replicates[i] = bootstrap_replicate_1d(data, func)\n",
    "    return bs_replicates\n",
    "\n",
    "def bootstrap_replicate_1d(data, func):\n",
    "    return func(np.random.choice(data, size=len(data)))\n",
    "\n",
    "#Difference of means of two arrays\n",
    "def diff_of_means(data_1, data_2):\n",
    "    diff = np.mean(data_1) - np.mean(data_2)\n",
    "    return diff\n",
    "\n",
    "\n",
    "insured = med_charges[med_charges['insuranceclaim']==1]\n",
    "#print('insured')\n",
    "#print(insured[:5])\n",
    "ind = np.array(range(len(insured)))\n",
    "insured_charges = pd.DataFrame(insured['charges'], index=ind)\n",
    "insured_charges_ = insured_charges.dropna(axis='rows')\n",
    "#print(insured_charges_[0:4])\n",
    "\n",
    "non_insured = med_charges[med_charges['insuranceclaim']==0]\n",
    "#print('non-insured')\n",
    "#print(non_insured[:5])\n",
    "ind_ = np.array(range(len(non_insured)))\n",
    "non_insured_charges = pd.DataFrame(non_insured['charges'], index=ind)\n",
    "non_insured_charges_ = non_insured_charges.dropna(axis='rows')\n",
    "#print(non_insured_charges_[0:4])\n",
    "#mean_charge = np.mean(med_charges['charges'])\n",
    "combined_mean = np.mean(np.concatenate((insured_charges_['charges'], non_insured_charges_['charges'])))\n",
    "\n",
    "mean_diff = np.mean(insured_charges_['charges']) - np.mean(non_insured_charges_['charges'])\n",
    "\n",
    "empirical_diff_means = diff_of_means(insured_charges_['charges'], non_insured_charges_['charges'])\n",
    "print('empirical diff of means = ', empirical_diff_means)\n",
    "print('mean charge = ', combined_mean)\n",
    "print('mean difference = ', mean_diff)\n",
    "\n",
    "insured_shifted = insured_charges_['charges'] - np.mean(insured_charges_['charges']) + combined_mean\n",
    "non_insured_shifted = non_insured_charges_['charges'] - np.mean(non_insured_charges_['charges']) + combined_mean\n",
    "\n",
    "bs_replicates_insured = draw_bs_reps(insured_shifted, np.mean, size=10000)\n",
    "bs_replicates_non_insured = draw_bs_reps(non_insured_shifted, np.mean, size=10000)\n",
    "\n",
    "#print(non_insured_shifted)\n",
    "#print(bs_replicates_non_insured)\n",
    "\n",
    "bs_diff_replicates = bs_replicates_insured - bs_replicates_non_insured\n",
    "print('bs diff reps')\n",
    "print(bs_diff_replicates)\n",
    "\n",
    "conf_int = np.percentile(bs_diff_replicates, [2.5, 97.5])\n",
    "\n",
    "p = (np.sum(bs_diff_replicates <= conf_int[0])+ np.sum(bs_diff_replicates >= conf_int[1])) / len(bs_diff_replicates)\n",
    "\n",
    "sum_ = (np.sum(bs_diff_replicates <= conf_int[0])+ np.sum(bs_diff_replicates >= conf_int[1]))\n",
    "print('sum', sum_)\n",
    "\n",
    "print('p value =', p)\n",
    "print('95% confidence interval =', conf_int)"
   ]
  },
  {
   "cell_type": "code",
   "execution_count": null,
   "metadata": {},
   "outputs": [],
   "source": []
  },
  {
   "cell_type": "code",
   "execution_count": null,
   "metadata": {},
   "outputs": [],
   "source": [
    "#Generate a permutation sample from two data sets\n",
    "def permutation_sample(data_1, data_2):\n",
    "    data = np.concatenate((data_1, data_2))\n",
    "    permuted_data = np.random.permutation(data)\n",
    "    perm_sample_1 = permuted_data[:len(data_1)]\n",
    "    perm_sample_2 = permuted_data[len(data_1):]\n",
    "    return perm_sample_1, perm_sample_2"
   ]
  },
  {
   "cell_type": "code",
   "execution_count": null,
   "metadata": {},
   "outputs": [],
   "source": [
    "#Generate multiple permutation replicates\n",
    "def draw_perm_reps(data_1, data_2, func, size=1):\n",
    "    perm_replicates = np.empty(size)\n",
    "    for i in range(size):\n",
    "        perm_sample_1, perm_sample_2 = permutation_sample(data_1, data_2)\n",
    "        perm_replicates[i] = func(perm_sample_1, perm_sample_2)\n",
    "    return perm_replicates"
   ]
  },
  {
   "cell_type": "code",
   "execution_count": null,
   "metadata": {},
   "outputs": [],
   "source": []
  },
  {
   "cell_type": "markdown",
   "metadata": {},
   "source": []
  },
  {
   "cell_type": "markdown",
   "metadata": {},
   "source": [
    "__Q:__ To put the above result in perspective, plot the histogram of your bootstrapped differences along with lines marking the locations of the observed difference. (Why would we plot more than one line, given that we only have one observed difference?)"
   ]
  },
  {
   "cell_type": "markdown",
   "metadata": {},
   "source": [
    "__A:__"
   ]
  },
  {
   "cell_type": "code",
   "execution_count": 11,
   "metadata": {},
   "outputs": [
    {
     "data": {
      "image/png": "[encoded data removed]",
      "text/plain": [
       "<Figure size 432x288 with 1 Axes>"
      ]
     },
     "metadata": {},
     "output_type": "display_data"
    }
   ],
   "source": [
    "\n",
    "\n",
    "n_data = len(bs_replicates_diff)\n",
    "n_bins = np.sqrt(n_data)\n",
    "n_bins = int(n_bins)\n",
    "\n",
    "\n",
    "_ = plt.hist(bs_diff_replicates, bins=n_bins, density=True)\n",
    "_ = plt.xlabel('Difference Between Charges')\n",
    "_ = plt.ylabel('PDF')\n",
    "_ = plt.axvline(mean_diff, color='r', linestyle='--')\n",
    "_ = plt.axvline(conf_int[0], color='r', linestyle='-.')\n",
    "_ = plt.axvline(conf_int[1], color='r', linestyle='-.')\n",
    "plt.show()"
   ]
  },
  {
   "cell_type": "markdown",
   "metadata": {},
   "source": []
  },
  {
   "cell_type": "markdown",
   "metadata": {},
   "source": [
    "__Q:__ Compare your p-value above with that obtained using the _t_-test function in the previous assignment. Do you think you would want to try to perform enough bootstrap replicates to observe a random difference as large as that we did observe?"
   ]
  },
  {
   "cell_type": "markdown",
   "metadata": {},
   "source": [
    "__A:__\n",
    "\n",
    "Based on the CLT, by performing more bootstrap replicates you would observe a random difference close to the true difference. "
   ]
  },
  {
   "cell_type": "markdown",
   "metadata": {},
   "source": [
    "__Q:__ Remember the two variants of the _t_-test we performed in the previous assignment. Which one would you use now?"
   ]
  },
  {
   "cell_type": "markdown",
   "metadata": {},
   "source": [
    "__A:__\n",
    "\n",
    "I would use the sci.py stats variation of performing the _t_-test."
   ]
  },
  {
   "cell_type": "markdown",
   "metadata": {},
   "source": [
    "__Q:__ If, instead of being asked whether the means of two groups were different, you were working with an ad-recommender team who wanted to release a new recommendation algorithm, and you were looking at click-through rate both for the current algorithm (call it A) and from trials of their new algorithm (call it B), would you perform a two-sided test as above? What would be your null and alternative hypotheses and what would be the real world consequence of rejecting the null hypothesis?"
   ]
  },
  {
   "cell_type": "markdown",
   "metadata": {},
   "source": [
    "__A:__\n",
    "\n",
    "For an A/B test I would perform a two-sided test.\n",
    "H0 = Algorithm A results in a higher click-through rate\n",
    "HA = Algorithm B results in a higher click-through rate\n",
    "The consequences of rejecting the null would mean choosing to implement the less effective algorithm. Leading to a less than optimal click-through rate giving us less ad-revenue than the correct algorithm would provide."
   ]
  },
  {
   "cell_type": "markdown",
   "metadata": {},
   "source": [
    "# Learning outcomes\n",
    "\n",
    "You've previously applied frequentist methods to calculate confidence intervals, p-values, and perform hypothesis tests. Frequentist methods use theoretical results to calculate what we expect would happen if experiments were to be run again and again and again. Now you've seen how you can do the same things using the bootstrap approach, which does not rely on such theory, and attendant assumptions, but instead literally does run experiments again and again and again.\n",
    "\n",
    "In these exercises, you have\n",
    "* calculated the same confidence interval lower limit as you did previously\n",
    "* tested the assumption that the variances of the two groups (insured vs. non-insured) were equal - something a bit harder to do using the frequentist method because of the nature of the sampling distribution for variance\n",
    "* calculated the p-value for the difference between the means of the two groups and compared with the result obtained using the previous frequentist approach\n",
    "\n",
    "You are now well equipped to apply the bootstrap approach to a wide variety of problems. Just think about what conditions you wish to recreate in your simulated reruns."
   ]
  }
 ],
 "metadata": {
  "kernelspec": {
   "display_name": "Python 3",
   "language": "python",
   "name": "python3"
  },
  "language_info": {
   "codemirror_mode": {
    "name": "ipython",
    "version": 3
   },
   "file_extension": ".py",
   "mimetype": "text/x-python",
   "name": "python",
   "nbconvert_exporter": "python",
   "pygments_lexer": "ipython3",
   "version": "3.6.5"
  }
 },
 "nbformat": 4,
 "nbformat_minor": 2
}
